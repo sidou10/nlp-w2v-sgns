{
 "cells": [
  {
   "cell_type": "markdown",
   "metadata": {
    "toc": true
   },
   "source": [
    "<h1>Table of Contents<span class=\"tocSkip\"></span></h1>\n",
    "<div class=\"toc\"><ul class=\"toc-item\"></ul></div>"
   ]
  },
  {
   "cell_type": "code",
   "execution_count": 2,
   "metadata": {},
   "outputs": [],
   "source": [
    "%load_ext autoreload\n",
    "%load_ext line_profiler\n",
    "%autoreload 2\n",
    "\n",
    "from tqdm import tqdm_notebook, tqdm\n",
    "from scipy.optimize import minimize\n",
    "from math import exp, log\n",
    "import numpy as np\n",
    "from utils import getPairsAndVocs, getNegPairs, costFunction, gradCost, update_voc \n",
    "import string\n",
    "import re"
   ]
  },
  {
   "cell_type": "code",
   "execution_count": 3,
   "metadata": {
    "collapsed": true
   },
   "outputs": [],
   "source": [
    "def text2sentences(path):\n",
    "    # feel free to make a better tokenization/pre-processing\n",
    "    sentences = []\n",
    "    reg = re.compile('[%s]' % re.escape(string.punctuation))\n",
    "    with open(path) as f:\n",
    "        for l in f:\n",
    "            l_wo_punct = reg.sub('', l)\n",
    "            sentences.append( l_wo_punct.lower().split() )\n",
    "    return sentences"
   ]
  },
  {
   "cell_type": "code",
   "execution_count": 4,
   "metadata": {
    "collapsed": true
   },
   "outputs": [],
   "source": [
    "sentences = text2sentences(\"data/odyssey.txt\")"
   ]
  },
  {
   "cell_type": "code",
   "execution_count": 5,
   "metadata": {},
   "outputs": [
    {
     "name": "stdout",
     "output_type": "stream",
     "text": [
      "['the', 'prophesyings', 'with', 'which', 'phoebus', 'apollo', 'had', 'inspired', 'him', 'with']\n"
     ]
    }
   ],
   "source": [
    "sent = sentences[80]\n",
    "print(sent)"
   ]
  },
  {
   "cell_type": "code",
   "execution_count": 94,
   "metadata": {},
   "outputs": [],
   "source": [
    "class mSkipGram:\n",
    "    def __init__(self, sentences, nEmbed=100, negativeRate=5, winSize=5, minCount=5):\n",
    "        self.nEmbed = nEmbed\n",
    "        self.wc_pairs, self.word_voc, self.context_voc = getPairsAndVocs(sentences, winSize)\n",
    "        self.neg_wc_pairs = getNegPairs(self.wc_pairs, self.word_voc, self.context_voc, negativeRate)\n",
    "    \n",
    "    def train(self, stepsize=0.1, epochs=10, batch_size=32):\n",
    "        nb_words = len(list(self.word_voc.keys()))\n",
    "        nb_context = len(list(self.context_voc.keys()))\n",
    "        \n",
    "        theta0 = np.zeros(self.nEmbed*(nb_words+nb_context))\n",
    "        cost_to_optimize = lambda theta, wc_pairs, neg_wc_pairs: costFunction(theta, self.nEmbed, wc_pairs, neg_wc_pairs, nb_words, nb_context)\n",
    "        grad = lambda theta, wc_pairs, neg_wc_pairs: gradCost(theta, self.nEmbed, wc_pairs, neg_wc_pairs, nb_words, nb_context)\n",
    "        \n",
    "        ####### STOCHASTIC GRADIENT DESCENT #######\n",
    "        converged = False\n",
    "        tol = 1e-6\n",
    "        thetan = theta0\n",
    "        fn = 1e8\n",
    "        it = 0\n",
    "        rho = stepsize\n",
    "        nb_pairs = len(self.wc_pairs)        \n",
    "        \n",
    "        for epoch in range(epochs):\n",
    "            print(\"Epoch {}\".format(epoch))\n",
    "            for batch in tqdm_notebook(range(nb_pairs//batch_size)):\n",
    "                batch_begin = batch*batch_size\n",
    "                batch_end = (batch+1)*batch_size\n",
    "                if batch_end > nb_pairs:\n",
    "                    batch_end = nb_pairs\n",
    "                batch_pos = self.wc_pairs[batch_begin:batch_end]\n",
    "                batch_neg = self.neg_wc_pairs[batch_begin:batch_end]\n",
    "                gradn = grad(thetan, batch_pos, batch_neg)\n",
    "                thetanp1 = thetan + rho*gradn\n",
    "                fnp1 = cost_to_optimize(thetanp1, batch_pos, batch_neg)\n",
    "                \n",
    "                div = 0 \n",
    "                while fnp1>fn:\n",
    "                    rho = rho/2\n",
    "                    print(\"rho: {} ->\".format(rho), end=\" \")\n",
    "                    thetanp1 = thetan + rho*gradn\n",
    "                    fnp1 = cost_to_optimize(thetanp1, batch_pos, batch_neg)\n",
    "                    div += 1\n",
    "                \n",
    "                print(\"{:.2f} ->\".format(fnp1), end = \" \")\n",
    "                rho = 2*rho\n",
    "                thetan = thetanp1\n",
    "                fn = fnp1\n",
    "            print(\"\")\n",
    "        ####### STOCHASTIC GRADIENT DESCENT #######   \n",
    "\n",
    "        \n",
    "        ######## GRADIENT DESCENT #######\n",
    "        #converged = False\n",
    "        #tol = 1e-6\n",
    "        #thetan = theta0\n",
    "        #fn = 1e8\n",
    "        #rho = stepsize\n",
    "        #nb_pairs = len(self.wc_pairs)\n",
    "        #\n",
    "        #for epoch in tqdm(range(epochs)):\n",
    "        #    gradn = grad(thetan, self.wc_pairs, self.neg_wc_pairs)\n",
    "        #    thetanp1 = thetan + rho*gradn\n",
    "        #    fnp1 = cost_to_optimize(thetanp1, self.wc_pairs, self.neg_wc_pairs)\n",
    "        #    while fnp1>fn:\n",
    "        #        rho = rho/2\n",
    "        #        print(\"rho: {} ->\".format(rho), end=\" \")\n",
    "        #        thetanp1 = thetan + rho*gradn\n",
    "        #        fnp1 = cost_to_optimize(thetanp1, self.wc_pairs, self.neg_wc_pairs)\n",
    "        #        \n",
    "        #    print(\"{:.2f} ->\".format(fnp1), end = \" \")\n",
    "        #    rho = 2*rho\n",
    "        #    thetan = thetanp1\n",
    "        #    fn = fnp1\n",
    "        #    print(\"\")\n",
    "        ######## GRADIENT DESCENT #######\n",
    "        \n",
    "        return (fn, thetan, converged)\n",
    "\n",
    "my_sg = mSkipGram(sentences)"
   ]
  },
  {
   "cell_type": "code",
   "execution_count": 96,
   "metadata": {},
   "outputs": [
    {
     "name": "stdout",
     "output_type": "stream",
     "text": [
      "Epoch 0\n"
     ]
    },
    {
     "data": {
      "application/vnd.jupyter.widget-view+json": {
       "model_id": "ceefc91f122b4c68a883c2e6505cb69d",
       "version_major": 2,
       "version_minor": 0
      },
      "text/plain": [
       "A Jupyter Widget"
      ]
     },
     "metadata": {},
     "output_type": "display_data"
    },
    {
     "name": "stdout",
     "output_type": "stream",
     "text": [
      "\n"
     ]
    },
    {
     "name": "stderr",
     "output_type": "stream",
     "text": [
      "Exception in thread Thread-11:\n",
      "Traceback (most recent call last):\n",
      "  File \"/Users/sidou/anaconda3/lib/python3.6/threading.py\", line 916, in _bootstrap_inner\n",
      "    self.run()\n",
      "  File \"/Users/sidou/anaconda3/lib/python3.6/site-packages/tqdm/_tqdm.py\", line 144, in run\n",
      "    for instance in self.tqdm_cls._instances:\n",
      "  File \"/Users/sidou/anaconda3/lib/python3.6/_weakrefset.py\", line 60, in __iter__\n",
      "    for itemref in self.data:\n",
      "RuntimeError: Set changed size during iteration\n",
      "\n"
     ]
    },
    {
     "name": "stdout",
     "output_type": "stream",
     "text": [
      "138629.44 -> 138629.44 -> \n"
     ]
    },
    {
     "ename": "KeyboardInterrupt",
     "evalue": "",
     "output_type": "error",
     "traceback": [
      "\u001b[0;31m---------------------------------------------------------------------------\u001b[0m",
      "\u001b[0;31mKeyboardInterrupt\u001b[0m                         Traceback (most recent call last)",
      "\u001b[0;32m<ipython-input-96-654975f086b6>\u001b[0m in \u001b[0;36m<module>\u001b[0;34m()\u001b[0m\n\u001b[0;32m----> 1\u001b[0;31m \u001b[0mmy_sg\u001b[0m\u001b[0;34m.\u001b[0m\u001b[0mtrain\u001b[0m\u001b[0;34m(\u001b[0m\u001b[0mstepsize\u001b[0m\u001b[0;34m=\u001b[0m\u001b[0;36m1\u001b[0m\u001b[0;34m,\u001b[0m \u001b[0mbatch_size\u001b[0m\u001b[0;34m=\u001b[0m\u001b[0;36m100000\u001b[0m\u001b[0;34m)\u001b[0m\u001b[0;34m\u001b[0m\u001b[0m\n\u001b[0m",
      "\u001b[0;32m<ipython-input-94-deba864544fc>\u001b[0m in \u001b[0;36mtrain\u001b[0;34m(self, stepsize, epochs, batch_size)\u001b[0m\n\u001b[1;32m     31\u001b[0m                 \u001b[0mbatch_pos\u001b[0m \u001b[0;34m=\u001b[0m \u001b[0mself\u001b[0m\u001b[0;34m.\u001b[0m\u001b[0mwc_pairs\u001b[0m\u001b[0;34m[\u001b[0m\u001b[0mbatch_begin\u001b[0m\u001b[0;34m:\u001b[0m\u001b[0mbatch_end\u001b[0m\u001b[0;34m]\u001b[0m\u001b[0;34m\u001b[0m\u001b[0m\n\u001b[1;32m     32\u001b[0m                 \u001b[0mbatch_neg\u001b[0m \u001b[0;34m=\u001b[0m \u001b[0mself\u001b[0m\u001b[0;34m.\u001b[0m\u001b[0mneg_wc_pairs\u001b[0m\u001b[0;34m[\u001b[0m\u001b[0mbatch_begin\u001b[0m\u001b[0;34m:\u001b[0m\u001b[0mbatch_end\u001b[0m\u001b[0;34m]\u001b[0m\u001b[0;34m\u001b[0m\u001b[0m\n\u001b[0;32m---> 33\u001b[0;31m                 \u001b[0mgradn\u001b[0m \u001b[0;34m=\u001b[0m \u001b[0mgrad\u001b[0m\u001b[0;34m(\u001b[0m\u001b[0mthetan\u001b[0m\u001b[0;34m,\u001b[0m \u001b[0mbatch_pos\u001b[0m\u001b[0;34m,\u001b[0m \u001b[0mbatch_neg\u001b[0m\u001b[0;34m)\u001b[0m\u001b[0;34m\u001b[0m\u001b[0m\n\u001b[0m\u001b[1;32m     34\u001b[0m                 \u001b[0mthetanp1\u001b[0m \u001b[0;34m=\u001b[0m \u001b[0mthetan\u001b[0m \u001b[0;34m+\u001b[0m \u001b[0mrho\u001b[0m\u001b[0;34m*\u001b[0m\u001b[0mgradn\u001b[0m\u001b[0;34m\u001b[0m\u001b[0m\n\u001b[1;32m     35\u001b[0m                 \u001b[0mfnp1\u001b[0m \u001b[0;34m=\u001b[0m \u001b[0mcost_to_optimize\u001b[0m\u001b[0;34m(\u001b[0m\u001b[0mthetanp1\u001b[0m\u001b[0;34m,\u001b[0m \u001b[0mbatch_pos\u001b[0m\u001b[0;34m,\u001b[0m \u001b[0mbatch_neg\u001b[0m\u001b[0;34m)\u001b[0m\u001b[0;34m\u001b[0m\u001b[0m\n",
      "\u001b[0;32m<ipython-input-94-deba864544fc>\u001b[0m in \u001b[0;36m<lambda>\u001b[0;34m(theta, wc_pairs, neg_wc_pairs)\u001b[0m\n\u001b[1;32m     11\u001b[0m         \u001b[0mtheta0\u001b[0m \u001b[0;34m=\u001b[0m \u001b[0mnp\u001b[0m\u001b[0;34m.\u001b[0m\u001b[0mzeros\u001b[0m\u001b[0;34m(\u001b[0m\u001b[0mself\u001b[0m\u001b[0;34m.\u001b[0m\u001b[0mnEmbed\u001b[0m\u001b[0;34m*\u001b[0m\u001b[0;34m(\u001b[0m\u001b[0mnb_words\u001b[0m\u001b[0;34m+\u001b[0m\u001b[0mnb_context\u001b[0m\u001b[0;34m)\u001b[0m\u001b[0;34m)\u001b[0m\u001b[0;34m\u001b[0m\u001b[0m\n\u001b[1;32m     12\u001b[0m         \u001b[0mcost_to_optimize\u001b[0m \u001b[0;34m=\u001b[0m \u001b[0;32mlambda\u001b[0m \u001b[0mtheta\u001b[0m\u001b[0;34m,\u001b[0m \u001b[0mwc_pairs\u001b[0m\u001b[0;34m,\u001b[0m \u001b[0mneg_wc_pairs\u001b[0m\u001b[0;34m:\u001b[0m \u001b[0mcostFunction\u001b[0m\u001b[0;34m(\u001b[0m\u001b[0mtheta\u001b[0m\u001b[0;34m,\u001b[0m \u001b[0mself\u001b[0m\u001b[0;34m.\u001b[0m\u001b[0mnEmbed\u001b[0m\u001b[0;34m,\u001b[0m \u001b[0mwc_pairs\u001b[0m\u001b[0;34m,\u001b[0m \u001b[0mneg_wc_pairs\u001b[0m\u001b[0;34m,\u001b[0m \u001b[0mnb_words\u001b[0m\u001b[0;34m,\u001b[0m \u001b[0mnb_context\u001b[0m\u001b[0;34m)\u001b[0m\u001b[0;34m\u001b[0m\u001b[0m\n\u001b[0;32m---> 13\u001b[0;31m         \u001b[0mgrad\u001b[0m \u001b[0;34m=\u001b[0m \u001b[0;32mlambda\u001b[0m \u001b[0mtheta\u001b[0m\u001b[0;34m,\u001b[0m \u001b[0mwc_pairs\u001b[0m\u001b[0;34m,\u001b[0m \u001b[0mneg_wc_pairs\u001b[0m\u001b[0;34m:\u001b[0m \u001b[0mgradCost\u001b[0m\u001b[0;34m(\u001b[0m\u001b[0mtheta\u001b[0m\u001b[0;34m,\u001b[0m \u001b[0mself\u001b[0m\u001b[0;34m.\u001b[0m\u001b[0mnEmbed\u001b[0m\u001b[0;34m,\u001b[0m \u001b[0mwc_pairs\u001b[0m\u001b[0;34m,\u001b[0m \u001b[0mneg_wc_pairs\u001b[0m\u001b[0;34m,\u001b[0m \u001b[0mnb_words\u001b[0m\u001b[0;34m,\u001b[0m \u001b[0mnb_context\u001b[0m\u001b[0;34m)\u001b[0m\u001b[0;34m\u001b[0m\u001b[0m\n\u001b[0m\u001b[1;32m     14\u001b[0m \u001b[0;34m\u001b[0m\u001b[0m\n\u001b[1;32m     15\u001b[0m         \u001b[0;31m####### STOCHASTIC GRADIENT DESCENT #######\u001b[0m\u001b[0;34m\u001b[0m\u001b[0;34m\u001b[0m\u001b[0m\n",
      "\u001b[0;32m~/Desktop/github/nlp-w2v-sgns/utils.py\u001b[0m in \u001b[0;36mgradCost\u001b[0;34m(theta, nEmbed, wc_pairs, neg_wc_pairs, nb_words, nb_contexts)\u001b[0m\n\u001b[1;32m    100\u001b[0m         \u001b[0;31m# Update the derivative for word and context\u001b[0m\u001b[0;34m\u001b[0m\u001b[0;34m\u001b[0m\u001b[0m\n\u001b[1;32m    101\u001b[0m         \u001b[0mdf_dw\u001b[0m \u001b[0;34m=\u001b[0m \u001b[0;34m-\u001b[0m\u001b[0mcontext\u001b[0m\u001b[0;34m*\u001b[0m\u001b[0mexp_wdotc\u001b[0m\u001b[0;34m/\u001b[0m\u001b[0;34m(\u001b[0m\u001b[0;36m1\u001b[0m\u001b[0;34m+\u001b[0m\u001b[0mexp_wdotc\u001b[0m\u001b[0;34m)\u001b[0m\u001b[0;34m\u001b[0m\u001b[0m\n\u001b[0;32m--> 102\u001b[0;31m         \u001b[0mgrad\u001b[0m\u001b[0;34m[\u001b[0m\u001b[0mword_idx\u001b[0m\u001b[0;34m*\u001b[0m\u001b[0mnEmbed\u001b[0m\u001b[0;34m:\u001b[0m\u001b[0;34m(\u001b[0m\u001b[0mword_idx\u001b[0m\u001b[0;34m+\u001b[0m\u001b[0;36m1\u001b[0m\u001b[0;34m)\u001b[0m\u001b[0;34m*\u001b[0m\u001b[0mnEmbed\u001b[0m\u001b[0;34m]\u001b[0m \u001b[0;34m+=\u001b[0m \u001b[0mdf_dw\u001b[0m\u001b[0;34m\u001b[0m\u001b[0m\n\u001b[0m\u001b[1;32m    103\u001b[0m \u001b[0;34m\u001b[0m\u001b[0m\n\u001b[1;32m    104\u001b[0m         \u001b[0mdf_dc\u001b[0m \u001b[0;34m=\u001b[0m \u001b[0;34m-\u001b[0m\u001b[0mword\u001b[0m\u001b[0;34m*\u001b[0m\u001b[0mexp_wdotc\u001b[0m\u001b[0;34m/\u001b[0m\u001b[0;34m(\u001b[0m\u001b[0;36m1\u001b[0m\u001b[0;34m+\u001b[0m\u001b[0mexp_wdotc\u001b[0m\u001b[0;34m)\u001b[0m\u001b[0;34m\u001b[0m\u001b[0m\n",
      "\u001b[0;31mKeyboardInterrupt\u001b[0m: "
     ]
    }
   ],
   "source": [
    "my_sg.train(stepsize=1, batch_size=100000)"
   ]
  },
  {
   "cell_type": "code",
   "execution_count": null,
   "metadata": {
    "collapsed": true
   },
   "outputs": [],
   "source": []
  },
  {
   "cell_type": "code",
   "execution_count": null,
   "metadata": {
    "collapsed": true
   },
   "outputs": [],
   "source": []
  },
  {
   "cell_type": "code",
   "execution_count": 20,
   "metadata": {
    "collapsed": true
   },
   "outputs": [],
   "source": [
    "nb_words = len(list(my_sg.word_voc.keys()))\n",
    "nb_context = len(list(my_sg.context_voc.keys()))\n",
    "theta0 = np.ones((nb_words+nb_context)*my_sg.nEmbed)*0.1"
   ]
  },
  {
   "cell_type": "code",
   "execution_count": 21,
   "metadata": {},
   "outputs": [
    {
     "name": "stdout",
     "output_type": "stream",
     "text": [
      "Appel cost function\n"
     ]
    }
   ],
   "source": [
    "%lprun -f costFunction costFunction(theta0, my_sg.nEmbed, my_sg.wc_pairs, my_sg.neg_wc_pairs, nb_words, nb_context)"
   ]
  },
  {
   "cell_type": "code",
   "execution_count": 27,
   "metadata": {},
   "outputs": [
    {
     "name": "stdout",
     "output_type": "stream",
     "text": [
      "Appel gradient\n",
      "Début wc pairs\n",
      "Début neg wc pairs\n"
     ]
    }
   ],
   "source": [
    "%lprun -f gradCost gradCost(theta0, my_sg.nEmbed, my_sg.wc_pairs, my_sg.neg_wc_pairs, nb_words, nb_context)"
   ]
  },
  {
   "cell_type": "code",
   "execution_count": 42,
   "metadata": {},
   "outputs": [],
   "source": [
    "theta0 = np.concatenate([np.ones(10), np.ones(20)*2])"
   ]
  },
  {
   "cell_type": "code",
   "execution_count": 43,
   "metadata": {},
   "outputs": [
    {
     "data": {
      "text/plain": [
       "array([ 1.,  1.,  1.,  1.,  1.,  1.,  1.,  1.,  1.,  1.,  2.,  2.,  2.,\n",
       "        2.,  2.,  2.,  2.,  2.,  2.,  2.,  2.,  2.,  2.,  2.,  2.,  2.,\n",
       "        2.,  2.,  2.,  2.])"
      ]
     },
     "execution_count": 43,
     "metadata": {},
     "output_type": "execute_result"
    }
   ],
   "source": [
    "theta0"
   ]
  },
  {
   "cell_type": "code",
   "execution_count": 60,
   "metadata": {},
   "outputs": [],
   "source": [
    "nEmbed = 2\n",
    "nb_words = 10\n",
    "nb_contexts = 5\n",
    "W = theta0[:nEmbed*nb_words].reshape(nb_words, nEmbed)\n",
    "C = theta0[nEmbed*nb_words:].reshape(nb_contexts, nEmbed)"
   ]
  },
  {
   "cell_type": "code",
   "execution_count": 71,
   "metadata": {},
   "outputs": [
    {
     "name": "stdout",
     "output_type": "stream",
     "text": [
      "4.16 µs ± 86.7 ns per loop (mean ± std. dev. of 7 runs, 100000 loops each)\n"
     ]
    }
   ],
   "source": [
    "%timeit sum(W[0,:]*(C[0,:]))"
   ]
  },
  {
   "cell_type": "code",
   "execution_count": 72,
   "metadata": {},
   "outputs": [
    {
     "name": "stdout",
     "output_type": "stream",
     "text": [
      "1.61 µs ± 13.8 ns per loop (mean ± std. dev. of 7 runs, 1000000 loops each)\n"
     ]
    }
   ],
   "source": [
    "%timeit W[0,:].dot((C[0,:]))"
   ]
  },
  {
   "cell_type": "code",
   "execution_count": 75,
   "metadata": {},
   "outputs": [
    {
     "data": {
      "text/plain": [
       "array([[ 1.,  1.],\n",
       "       [ 1.,  1.],\n",
       "       [ 1.,  1.],\n",
       "       [ 1.,  1.],\n",
       "       [ 1.,  1.],\n",
       "       [ 2.,  2.],\n",
       "       [ 2.,  2.],\n",
       "       [ 2.,  2.],\n",
       "       [ 2.,  2.],\n",
       "       [ 2.,  2.]])"
      ]
     },
     "execution_count": 75,
     "metadata": {},
     "output_type": "execute_result"
    }
   ],
   "source": [
    "W"
   ]
  },
  {
   "cell_type": "code",
   "execution_count": 74,
   "metadata": {},
   "outputs": [
    {
     "data": {
      "text/plain": [
       "(2,)"
      ]
     },
     "execution_count": 74,
     "metadata": {},
     "output_type": "execute_result"
    }
   ],
   "source": [
    "C[0,:].shape"
   ]
  },
  {
   "cell_type": "code",
   "execution_count": null,
   "metadata": {
    "collapsed": true
   },
   "outputs": [],
   "source": []
  }
 ],
 "metadata": {
  "kernelspec": {
   "display_name": "Python 3",
   "language": "python",
   "name": "python3"
  },
  "language_info": {
   "codemirror_mode": {
    "name": "ipython",
    "version": 3
   },
   "file_extension": ".py",
   "mimetype": "text/x-python",
   "name": "python",
   "nbconvert_exporter": "python",
   "pygments_lexer": "ipython3",
   "version": "3.6.3"
  },
  "toc": {
   "nav_menu": {},
   "number_sections": true,
   "sideBar": true,
   "skip_h1_title": false,
   "title_cell": "Table of Contents",
   "title_sidebar": "Contents",
   "toc_cell": true,
   "toc_position": {},
   "toc_section_display": true,
   "toc_window_display": false
  }
 },
 "nbformat": 4,
 "nbformat_minor": 2
}

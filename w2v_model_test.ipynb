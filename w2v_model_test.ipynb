{
 "cells": [
  {
   "cell_type": "markdown",
   "metadata": {
    "toc": true
   },
   "source": [
    "<h1>Table of Contents<span class=\"tocSkip\"></span></h1>\n",
    "<div class=\"toc\"><ul class=\"toc-item\"></ul></div>"
   ]
  },
  {
   "cell_type": "code",
   "execution_count": 50,
   "metadata": {},
   "outputs": [
    {
     "name": "stdout",
     "output_type": "stream",
     "text": [
      "The autoreload extension is already loaded. To reload it, use:\n",
      "  %reload_ext autoreload\n",
      "The line_profiler extension is already loaded. To reload it, use:\n",
      "  %reload_ext line_profiler\n"
     ]
    }
   ],
   "source": [
    "%load_ext autoreload\n",
    "%load_ext line_profiler\n",
    "%autoreload 2\n",
    "\n",
    "from tqdm import tqdm_notebook, tqdm\n",
    "from scipy.optimize import minimize\n",
    "from math import exp, log\n",
    "import numpy as np\n",
    "from utils import getPairsAndVocs, getNegPairs, costFunction, gradCost, update_voc \n",
    "import string\n",
    "import re"
   ]
  },
  {
   "cell_type": "code",
   "execution_count": 2,
   "metadata": {
    "collapsed": true
   },
   "outputs": [],
   "source": [
    "def text2sentences(path):\n",
    "    # feel free to make a better tokenization/pre-processing\n",
    "    sentences = []\n",
    "    reg = re.compile('[%s]' % re.escape(string.punctuation))\n",
    "    with open(path) as f:\n",
    "        for l in f:\n",
    "            l_wo_punct = reg.sub('', l)\n",
    "            sentences.append( l_wo_punct.lower().split() )\n",
    "    return sentences"
   ]
  },
  {
   "cell_type": "code",
   "execution_count": 3,
   "metadata": {
    "collapsed": true
   },
   "outputs": [],
   "source": [
    "sentences = text2sentences(\"data/odyssey.txt\")"
   ]
  },
  {
   "cell_type": "code",
   "execution_count": 4,
   "metadata": {},
   "outputs": [
    {
     "name": "stdout",
     "output_type": "stream",
     "text": [
      "['the', 'prophesyings', 'with', 'which', 'phoebus', 'apollo', 'had', 'inspired', 'him', 'with']\n"
     ]
    }
   ],
   "source": [
    "sent = sentences[80]\n",
    "print(sent)"
   ]
  },
  {
   "cell_type": "code",
   "execution_count": 48,
   "metadata": {
    "collapsed": true
   },
   "outputs": [],
   "source": [
    "class mSkipGram:\n",
    "    def __init__(self, sentences, nEmbed=100, negativeRate=5, winSize=5, minCount=5):\n",
    "        self.nEmbed = nEmbed\n",
    "        self.wc_pairs, self.word_voc, self.context_voc = getPairsAndVocs(sentences, winSize)\n",
    "        self.neg_wc_pairs = getNegPairs(self.wc_pairs, self.word_voc, self.context_voc)\n",
    "    \n",
    "    def train(self, stepsize=0.01, epochs=10, batch_size=32):\n",
    "        nb_words = len(list(self.word_voc.keys()))\n",
    "        nb_context = len(list(self.context_voc.keys()))\n",
    "        \n",
    "        theta0 = np.concatenate([np.random.rand(nb_words*self.nEmbed), np.random.rand(nb_context*self.nEmbed)*(-1)])\n",
    "        cost_to_optimize = lambda theta, wc_pairs, neg_wc_pairs: costFunction(theta, self.nEmbed, wc_pairs, neg_wc_pairs, nb_words, nb_context)\n",
    "        grad = lambda theta, wc_pairs, neg_wc_pairs: gradCost(theta, self.nEmbed, wc_pairs, neg_wc_pairs, nb_words, nb_context)\n",
    "        \n",
    "        ######## STOCHASTIC GRADIENT DESCENT #######\n",
    "        #converged = False\n",
    "        #tol = 1e-6\n",
    "        #thetan = theta0\n",
    "        #fn = 1e8\n",
    "        #it = 0\n",
    "        #rho = stepsize\n",
    "        #nb_pairs = len(self.wc_pairs)\n",
    "        #\n",
    "        #for epoch in range(epochs):\n",
    "        #    print(\"Epoch {}\".format(epoch))\n",
    "        #    batch = 0\n",
    "        #    for batch in tqdm_notebook(range(nb_pairs//batch_size)):\n",
    "        #        batch_begin = batch*batch_size\n",
    "        #        batch_end = (batch+1)*batch_size\n",
    "        #        if batch_end > nb_pairs:\n",
    "        #            batch_end = nb_pairs\n",
    "        #        batch_pos = self.wc_pairs[batch_begin:batch_end]\n",
    "        #        batch_neg = self.neg_wc_pairs[batch_begin:batch_end]\n",
    "        #        gradn = grad(thetan, batch_pos, batch_neg)\n",
    "        #        thetanp1 = thetan + rho*gradn\n",
    "        #        fnp1 = cost_to_optimize(thetanp1, batch_pos, batch_neg)\n",
    "        #        \n",
    "        #        div = 0 \n",
    "        #        while fnp1>fn and div<1:\n",
    "        #            rho = rho/2\n",
    "        #            print(\"rho: {} ->\".format(rho), end=\" \")\n",
    "        #            thetanp1 = thetan + rho*gradn\n",
    "        #            fnp1 = cost_to_optimize(thetanp1, batch_pos, batch_neg)\n",
    "        #            div += 1\n",
    "        #        \n",
    "        #        print(\"{:.2f} ->\".format(fnp1), end = \" \")\n",
    "        #        rho = 2*rho\n",
    "        #        thetan = thetanp1\n",
    "        #        fn = fnp1\n",
    "        #        batch += 1\n",
    "        #    print(\"\")\n",
    "        ######## STOCHASTIC GRADIENT DESCENT #######   \n",
    "\n",
    "        \n",
    "        ####### GRADIENT DESCENT #######\n",
    "        converged = False\n",
    "        tol = 1e-6\n",
    "        thetan = theta0\n",
    "        fn = 1e8\n",
    "        it = 0\n",
    "        rho = stepsize\n",
    "        nb_pairs = len(self.wc_pairs)\n",
    "        \n",
    "        for epoch in tqdm(range(epochs)):\n",
    "            gradn = grad(thetan, self.wc_pairs, self.neg_wc_pairs)\n",
    "            thetanp1 = thetan + rho*gradn\n",
    "            fnp1 = cost_to_optimize(thetanp1, self.wc_pairs, self.neg_wc_pairs)\n",
    "            while fnp1>fn:\n",
    "                rho = rho/2\n",
    "                print(\"rho: {} ->\".format(rho), end=\" \")\n",
    "                thetanp1 = thetan + rho*gradn\n",
    "                fnp1 = cost_to_optimize(thetanp1, self.wc_pairs, self.neg_wc_pairs)\n",
    "                \n",
    "            print(\"{:.2f} ->\".format(fnp1), end = \" \")\n",
    "            rho = 2*rho\n",
    "            thetan = thetanp1\n",
    "            fn = fnp1\n",
    "            print(\"\")\n",
    "        ####### GRADIENT DESCENT #######\n",
    "        \n",
    "        return (fn, thetan, converged)\n",
    "\n",
    "my_sg = mSkipGram(sentences)"
   ]
  },
  {
   "cell_type": "code",
   "execution_count": null,
   "metadata": {},
   "outputs": [
    {
     "name": "stderr",
     "output_type": "stream",
     "text": [
      " 10%|█         | 1/10 [00:51<07:39, 51.03s/it]"
     ]
    },
    {
     "name": "stdout",
     "output_type": "stream",
     "text": [
      "61685013.70 -> \n"
     ]
    }
   ],
   "source": [
    "my_sg.train(epochs=10)"
   ]
  },
  {
   "cell_type": "code",
   "execution_count": null,
   "metadata": {
    "collapsed": true
   },
   "outputs": [],
   "source": []
  },
  {
   "cell_type": "code",
   "execution_count": null,
   "metadata": {
    "collapsed": true
   },
   "outputs": [],
   "source": []
  },
  {
   "cell_type": "code",
   "execution_count": null,
   "metadata": {
    "collapsed": true
   },
   "outputs": [],
   "source": []
  },
  {
   "cell_type": "code",
   "execution_count": 20,
   "metadata": {
    "collapsed": true
   },
   "outputs": [],
   "source": [
    "nb_words = len(list(my_sg.word_voc.keys()))\n",
    "nb_context = len(list(my_sg.context_voc.keys()))\n",
    "theta0 = np.ones((nb_words+nb_context)*my_sg.nEmbed)*0.1"
   ]
  },
  {
   "cell_type": "code",
   "execution_count": 21,
   "metadata": {},
   "outputs": [
    {
     "name": "stdout",
     "output_type": "stream",
     "text": [
      "Appel cost function\n"
     ]
    }
   ],
   "source": [
    "%lprun -f costFunction costFunction(theta0, my_sg.nEmbed, my_sg.wc_pairs, my_sg.neg_wc_pairs, nb_words, nb_context)"
   ]
  },
  {
   "cell_type": "code",
   "execution_count": 27,
   "metadata": {},
   "outputs": [
    {
     "name": "stdout",
     "output_type": "stream",
     "text": [
      "Appel gradient\n",
      "Début wc pairs\n",
      "Début neg wc pairs\n"
     ]
    }
   ],
   "source": [
    "%lprun -f gradCost gradCost(theta0, my_sg.nEmbed, my_sg.wc_pairs, my_sg.neg_wc_pairs, nb_words, nb_context)"
   ]
  },
  {
   "cell_type": "code",
   "execution_count": 34,
   "metadata": {
    "collapsed": true
   },
   "outputs": [],
   "source": [
    "theta0 = np.random.rand(10)"
   ]
  },
  {
   "cell_type": "code",
   "execution_count": null,
   "metadata": {
    "collapsed": true
   },
   "outputs": [],
   "source": []
  }
 ],
 "metadata": {
  "kernelspec": {
   "display_name": "Python 3",
   "language": "python",
   "name": "python3"
  },
  "language_info": {
   "codemirror_mode": {
    "name": "ipython",
    "version": 3
   },
   "file_extension": ".py",
   "mimetype": "text/x-python",
   "name": "python",
   "nbconvert_exporter": "python",
   "pygments_lexer": "ipython3",
   "version": "3.6.3"
  },
  "toc": {
   "nav_menu": {},
   "number_sections": true,
   "sideBar": true,
   "skip_h1_title": false,
   "title_cell": "Table of Contents",
   "title_sidebar": "Contents",
   "toc_cell": true,
   "toc_position": {},
   "toc_section_display": true,
   "toc_window_display": false
  }
 },
 "nbformat": 4,
 "nbformat_minor": 2
}
